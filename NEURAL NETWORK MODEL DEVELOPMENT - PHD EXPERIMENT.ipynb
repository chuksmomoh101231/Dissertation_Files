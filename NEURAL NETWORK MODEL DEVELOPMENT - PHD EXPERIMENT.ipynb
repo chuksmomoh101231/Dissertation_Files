{
 "cells": [
  {
   "cell_type": "code",
   "execution_count": 1,
   "id": "beec90ab",
   "metadata": {},
   "outputs": [],
   "source": [
    "import pandas as pd\n",
    "import numpy as np\n",
    "import seaborn as sns\n",
    "import matplotlib.pyplot as plt"
   ]
  },
  {
   "cell_type": "code",
   "execution_count": 2,
   "id": "b9e13aac",
   "metadata": {},
   "outputs": [],
   "source": [
    "import warnings\n",
    "warnings.filterwarnings('ignore')"
   ]
  },
  {
   "cell_type": "code",
   "execution_count": 3,
   "id": "a4360406",
   "metadata": {},
   "outputs": [],
   "source": [
    "# load the dataset\n",
    "df = pd.read_csv('walmart_dataset_PhD.csv')"
   ]
  },
  {
   "cell_type": "code",
   "execution_count": 4,
   "id": "923f7862",
   "metadata": {},
   "outputs": [
    {
     "data": {
      "text/html": [
       "<div>\n",
       "<style scoped>\n",
       "    .dataframe tbody tr th:only-of-type {\n",
       "        vertical-align: middle;\n",
       "    }\n",
       "\n",
       "    .dataframe tbody tr th {\n",
       "        vertical-align: top;\n",
       "    }\n",
       "\n",
       "    .dataframe thead th {\n",
       "        text-align: right;\n",
       "    }\n",
       "</style>\n",
       "<table border=\"1\" class=\"dataframe\">\n",
       "  <thead>\n",
       "    <tr style=\"text-align: right;\">\n",
       "      <th></th>\n",
       "      <th>id</th>\n",
       "      <th>item_id</th>\n",
       "      <th>dept_id</th>\n",
       "      <th>cat_id</th>\n",
       "      <th>store_id</th>\n",
       "      <th>state_id</th>\n",
       "      <th>d</th>\n",
       "      <th>sales</th>\n",
       "      <th>date</th>\n",
       "      <th>wm_yr_wk</th>\n",
       "      <th>...</th>\n",
       "      <th>month</th>\n",
       "      <th>year</th>\n",
       "      <th>event_name_1</th>\n",
       "      <th>event_type_1</th>\n",
       "      <th>event_name_2</th>\n",
       "      <th>event_type_2</th>\n",
       "      <th>snap_CA</th>\n",
       "      <th>snap_TX</th>\n",
       "      <th>snap_WI</th>\n",
       "      <th>sell_price</th>\n",
       "    </tr>\n",
       "  </thead>\n",
       "  <tbody>\n",
       "    <tr>\n",
       "      <th>0</th>\n",
       "      <td>HOBBIES_1_008_CA_1_validation</td>\n",
       "      <td>HOBBIES_1_008</td>\n",
       "      <td>HOBBIES_1</td>\n",
       "      <td>HOBBIES</td>\n",
       "      <td>CA_1</td>\n",
       "      <td>CA</td>\n",
       "      <td>d_1</td>\n",
       "      <td>12</td>\n",
       "      <td>2011-01-29</td>\n",
       "      <td>11101</td>\n",
       "      <td>...</td>\n",
       "      <td>1</td>\n",
       "      <td>2011</td>\n",
       "      <td>NaN</td>\n",
       "      <td>NaN</td>\n",
       "      <td>NaN</td>\n",
       "      <td>NaN</td>\n",
       "      <td>No</td>\n",
       "      <td>No</td>\n",
       "      <td>No</td>\n",
       "      <td>0.46</td>\n",
       "    </tr>\n",
       "    <tr>\n",
       "      <th>1</th>\n",
       "      <td>HOBBIES_1_008_CA_1_validation</td>\n",
       "      <td>HOBBIES_1_008</td>\n",
       "      <td>HOBBIES_1</td>\n",
       "      <td>HOBBIES</td>\n",
       "      <td>CA_1</td>\n",
       "      <td>CA</td>\n",
       "      <td>d_2</td>\n",
       "      <td>15</td>\n",
       "      <td>2011-01-30</td>\n",
       "      <td>11101</td>\n",
       "      <td>...</td>\n",
       "      <td>1</td>\n",
       "      <td>2011</td>\n",
       "      <td>NaN</td>\n",
       "      <td>NaN</td>\n",
       "      <td>NaN</td>\n",
       "      <td>NaN</td>\n",
       "      <td>No</td>\n",
       "      <td>No</td>\n",
       "      <td>No</td>\n",
       "      <td>0.46</td>\n",
       "    </tr>\n",
       "    <tr>\n",
       "      <th>2</th>\n",
       "      <td>HOBBIES_1_008_CA_1_validation</td>\n",
       "      <td>HOBBIES_1_008</td>\n",
       "      <td>HOBBIES_1</td>\n",
       "      <td>HOBBIES</td>\n",
       "      <td>CA_1</td>\n",
       "      <td>CA</td>\n",
       "      <td>d_3</td>\n",
       "      <td>0</td>\n",
       "      <td>2011-01-31</td>\n",
       "      <td>11101</td>\n",
       "      <td>...</td>\n",
       "      <td>1</td>\n",
       "      <td>2011</td>\n",
       "      <td>NaN</td>\n",
       "      <td>NaN</td>\n",
       "      <td>NaN</td>\n",
       "      <td>NaN</td>\n",
       "      <td>No</td>\n",
       "      <td>No</td>\n",
       "      <td>No</td>\n",
       "      <td>0.46</td>\n",
       "    </tr>\n",
       "    <tr>\n",
       "      <th>3</th>\n",
       "      <td>HOBBIES_1_008_CA_1_validation</td>\n",
       "      <td>HOBBIES_1_008</td>\n",
       "      <td>HOBBIES_1</td>\n",
       "      <td>HOBBIES</td>\n",
       "      <td>CA_1</td>\n",
       "      <td>CA</td>\n",
       "      <td>d_4</td>\n",
       "      <td>0</td>\n",
       "      <td>2011-02-01</td>\n",
       "      <td>11101</td>\n",
       "      <td>...</td>\n",
       "      <td>2</td>\n",
       "      <td>2011</td>\n",
       "      <td>NaN</td>\n",
       "      <td>NaN</td>\n",
       "      <td>NaN</td>\n",
       "      <td>NaN</td>\n",
       "      <td>Yes</td>\n",
       "      <td>Yes</td>\n",
       "      <td>No</td>\n",
       "      <td>0.46</td>\n",
       "    </tr>\n",
       "    <tr>\n",
       "      <th>4</th>\n",
       "      <td>HOBBIES_1_008_CA_1_validation</td>\n",
       "      <td>HOBBIES_1_008</td>\n",
       "      <td>HOBBIES_1</td>\n",
       "      <td>HOBBIES</td>\n",
       "      <td>CA_1</td>\n",
       "      <td>CA</td>\n",
       "      <td>d_5</td>\n",
       "      <td>0</td>\n",
       "      <td>2011-02-02</td>\n",
       "      <td>11101</td>\n",
       "      <td>...</td>\n",
       "      <td>2</td>\n",
       "      <td>2011</td>\n",
       "      <td>NaN</td>\n",
       "      <td>NaN</td>\n",
       "      <td>NaN</td>\n",
       "      <td>NaN</td>\n",
       "      <td>Yes</td>\n",
       "      <td>No</td>\n",
       "      <td>Yes</td>\n",
       "      <td>0.46</td>\n",
       "    </tr>\n",
       "  </tbody>\n",
       "</table>\n",
       "<p>5 rows × 22 columns</p>\n",
       "</div>"
      ],
      "text/plain": [
       "                              id        item_id    dept_id   cat_id store_id  \\\n",
       "0  HOBBIES_1_008_CA_1_validation  HOBBIES_1_008  HOBBIES_1  HOBBIES     CA_1   \n",
       "1  HOBBIES_1_008_CA_1_validation  HOBBIES_1_008  HOBBIES_1  HOBBIES     CA_1   \n",
       "2  HOBBIES_1_008_CA_1_validation  HOBBIES_1_008  HOBBIES_1  HOBBIES     CA_1   \n",
       "3  HOBBIES_1_008_CA_1_validation  HOBBIES_1_008  HOBBIES_1  HOBBIES     CA_1   \n",
       "4  HOBBIES_1_008_CA_1_validation  HOBBIES_1_008  HOBBIES_1  HOBBIES     CA_1   \n",
       "\n",
       "  state_id    d  sales        date  wm_yr_wk  ... month  year  event_name_1  \\\n",
       "0       CA  d_1     12  2011-01-29     11101  ...     1  2011           NaN   \n",
       "1       CA  d_2     15  2011-01-30     11101  ...     1  2011           NaN   \n",
       "2       CA  d_3      0  2011-01-31     11101  ...     1  2011           NaN   \n",
       "3       CA  d_4      0  2011-02-01     11101  ...     2  2011           NaN   \n",
       "4       CA  d_5      0  2011-02-02     11101  ...     2  2011           NaN   \n",
       "\n",
       "   event_type_1 event_name_2 event_type_2 snap_CA snap_TX snap_WI sell_price  \n",
       "0           NaN          NaN          NaN      No      No      No       0.46  \n",
       "1           NaN          NaN          NaN      No      No      No       0.46  \n",
       "2           NaN          NaN          NaN      No      No      No       0.46  \n",
       "3           NaN          NaN          NaN     Yes     Yes      No       0.46  \n",
       "4           NaN          NaN          NaN     Yes      No     Yes       0.46  \n",
       "\n",
       "[5 rows x 22 columns]"
      ]
     },
     "execution_count": 4,
     "metadata": {},
     "output_type": "execute_result"
    }
   ],
   "source": [
    "# print the first 5 rows\n",
    "df.head()"
   ]
  },
  {
   "cell_type": "code",
   "execution_count": 5,
   "id": "551c0839",
   "metadata": {},
   "outputs": [
    {
     "data": {
      "text/plain": [
       "(46027957, 22)"
      ]
     },
     "execution_count": 5,
     "metadata": {},
     "output_type": "execute_result"
    }
   ],
   "source": [
    "# print out the shape of the dataset\n",
    "df.shape"
   ]
  },
  {
   "cell_type": "code",
   "execution_count": 6,
   "id": "1afc7b7b",
   "metadata": {},
   "outputs": [
    {
     "name": "stdout",
     "output_type": "stream",
     "text": [
      "<class 'pandas.core.frame.DataFrame'>\n",
      "RangeIndex: 46027957 entries, 0 to 46027956\n",
      "Data columns (total 22 columns):\n",
      " #   Column        Dtype  \n",
      "---  ------        -----  \n",
      " 0   id            object \n",
      " 1   item_id       object \n",
      " 2   dept_id       object \n",
      " 3   cat_id        object \n",
      " 4   store_id      object \n",
      " 5   state_id      object \n",
      " 6   d             object \n",
      " 7   sales         int64  \n",
      " 8   date          object \n",
      " 9   wm_yr_wk      int64  \n",
      " 10  weekday       object \n",
      " 11  wday          int64  \n",
      " 12  month         int64  \n",
      " 13  year          int64  \n",
      " 14  event_name_1  object \n",
      " 15  event_type_1  object \n",
      " 16  event_name_2  object \n",
      " 17  event_type_2  object \n",
      " 18  snap_CA       object \n",
      " 19  snap_TX       object \n",
      " 20  snap_WI       object \n",
      " 21  sell_price    float64\n",
      "dtypes: float64(1), int64(5), object(16)\n",
      "memory usage: 7.5+ GB\n"
     ]
    }
   ],
   "source": [
    "#get some basic information about the dataset\n",
    "df.info()"
   ]
  },
  {
   "cell_type": "markdown",
   "id": "1c8df5e8",
   "metadata": {},
   "source": [
    "## Data Preprocessing"
   ]
  },
  {
   "cell_type": "code",
   "execution_count": 7,
   "id": "401c856d",
   "metadata": {},
   "outputs": [
    {
     "data": {
      "text/html": [
       "<div>\n",
       "<style scoped>\n",
       "    .dataframe tbody tr th:only-of-type {\n",
       "        vertical-align: middle;\n",
       "    }\n",
       "\n",
       "    .dataframe tbody tr th {\n",
       "        vertical-align: top;\n",
       "    }\n",
       "\n",
       "    .dataframe thead th {\n",
       "        text-align: right;\n",
       "    }\n",
       "</style>\n",
       "<table border=\"1\" class=\"dataframe\">\n",
       "  <thead>\n",
       "    <tr style=\"text-align: right;\">\n",
       "      <th></th>\n",
       "      <th>count</th>\n",
       "      <th>mean</th>\n",
       "      <th>std</th>\n",
       "      <th>min</th>\n",
       "      <th>25%</th>\n",
       "      <th>50%</th>\n",
       "      <th>75%</th>\n",
       "      <th>max</th>\n",
       "    </tr>\n",
       "  </thead>\n",
       "  <tbody>\n",
       "    <tr>\n",
       "      <th>sales</th>\n",
       "      <td>46027957.0</td>\n",
       "      <td>1.427294</td>\n",
       "      <td>4.310440</td>\n",
       "      <td>0.00</td>\n",
       "      <td>0.00</td>\n",
       "      <td>0.00</td>\n",
       "      <td>1.00</td>\n",
       "      <td>763.00</td>\n",
       "    </tr>\n",
       "    <tr>\n",
       "      <th>wm_yr_wk</th>\n",
       "      <td>46027957.0</td>\n",
       "      <td>11373.480404</td>\n",
       "      <td>143.775567</td>\n",
       "      <td>11101.00</td>\n",
       "      <td>11243.00</td>\n",
       "      <td>11406.00</td>\n",
       "      <td>11511.00</td>\n",
       "      <td>11613.00</td>\n",
       "    </tr>\n",
       "    <tr>\n",
       "      <th>wday</th>\n",
       "      <td>46027957.0</td>\n",
       "      <td>3.996688</td>\n",
       "      <td>2.000825</td>\n",
       "      <td>1.00</td>\n",
       "      <td>2.00</td>\n",
       "      <td>4.00</td>\n",
       "      <td>6.00</td>\n",
       "      <td>7.00</td>\n",
       "    </tr>\n",
       "    <tr>\n",
       "      <th>month</th>\n",
       "      <td>46027957.0</td>\n",
       "      <td>6.398704</td>\n",
       "      <td>3.480230</td>\n",
       "      <td>1.00</td>\n",
       "      <td>3.00</td>\n",
       "      <td>6.00</td>\n",
       "      <td>9.00</td>\n",
       "      <td>12.00</td>\n",
       "    </tr>\n",
       "    <tr>\n",
       "      <th>year</th>\n",
       "      <td>46027957.0</td>\n",
       "      <td>2013.552382</td>\n",
       "      <td>1.470835</td>\n",
       "      <td>2011.00</td>\n",
       "      <td>2012.00</td>\n",
       "      <td>2014.00</td>\n",
       "      <td>2015.00</td>\n",
       "      <td>2016.00</td>\n",
       "    </tr>\n",
       "    <tr>\n",
       "      <th>sell_price</th>\n",
       "      <td>46027957.0</td>\n",
       "      <td>4.408089</td>\n",
       "      <td>3.403657</td>\n",
       "      <td>0.01</td>\n",
       "      <td>2.18</td>\n",
       "      <td>3.47</td>\n",
       "      <td>5.84</td>\n",
       "      <td>107.32</td>\n",
       "    </tr>\n",
       "  </tbody>\n",
       "</table>\n",
       "</div>"
      ],
      "text/plain": [
       "                 count          mean         std       min       25%  \\\n",
       "sales       46027957.0      1.427294    4.310440      0.00      0.00   \n",
       "wm_yr_wk    46027957.0  11373.480404  143.775567  11101.00  11243.00   \n",
       "wday        46027957.0      3.996688    2.000825      1.00      2.00   \n",
       "month       46027957.0      6.398704    3.480230      1.00      3.00   \n",
       "year        46027957.0   2013.552382    1.470835   2011.00   2012.00   \n",
       "sell_price  46027957.0      4.408089    3.403657      0.01      2.18   \n",
       "\n",
       "                 50%       75%       max  \n",
       "sales           0.00      1.00    763.00  \n",
       "wm_yr_wk    11406.00  11511.00  11613.00  \n",
       "wday            4.00      6.00      7.00  \n",
       "month           6.00      9.00     12.00  \n",
       "year         2014.00   2015.00   2016.00  \n",
       "sell_price      3.47      5.84    107.32  "
      ]
     },
     "execution_count": 7,
     "metadata": {},
     "output_type": "execute_result"
    }
   ],
   "source": [
    "# summary statistics of the numeric variables\n",
    "df.describe().T"
   ]
  },
  {
   "cell_type": "code",
   "execution_count": 8,
   "id": "7b667929",
   "metadata": {},
   "outputs": [
    {
     "data": {
      "text/plain": [
       "id               0.000000\n",
       "item_id          0.000000\n",
       "dept_id          0.000000\n",
       "cat_id           0.000000\n",
       "store_id         0.000000\n",
       "state_id         0.000000\n",
       "d                0.000000\n",
       "sales            0.000000\n",
       "date             0.000000\n",
       "wm_yr_wk         0.000000\n",
       "weekday          0.000000\n",
       "wday             0.000000\n",
       "month            0.000000\n",
       "year             0.000000\n",
       "event_name_1    91.990976\n",
       "event_type_1    91.990976\n",
       "event_name_2    99.794727\n",
       "event_type_2    99.794727\n",
       "snap_CA          0.000000\n",
       "snap_TX          0.000000\n",
       "snap_WI          0.000000\n",
       "sell_price       0.000000\n",
       "dtype: float64"
      ]
     },
     "execution_count": 8,
     "metadata": {},
     "output_type": "execute_result"
    }
   ],
   "source": [
    "(df.isnull().sum()/len(df))*100"
   ]
  },
  {
   "cell_type": "markdown",
   "id": "9b19dc95",
   "metadata": {},
   "source": [
    "There are missing values in the dataset. The values are all over 90 percent and will all be deleted."
   ]
  },
  {
   "cell_type": "code",
   "execution_count": 9,
   "id": "8d2c2787",
   "metadata": {},
   "outputs": [
    {
     "name": "stdout",
     "output_type": "stream",
     "text": [
      "Number of duplicate rows: 0\n"
     ]
    }
   ],
   "source": [
    "# Check for duplicate rows in the DataFrame\n",
    "duplicate_rows = df.duplicated()\n",
    "\n",
    "# Count the number of duplicate rows\n",
    "num_duplicate_rows = duplicate_rows.sum()\n",
    "\n",
    "# Print the number of duplicate rows\n",
    "print(\"Number of duplicate rows:\", num_duplicate_rows)"
   ]
  },
  {
   "cell_type": "code",
   "execution_count": 10,
   "id": "f32ab34e",
   "metadata": {},
   "outputs": [
    {
     "name": "stdout",
     "output_type": "stream",
     "text": [
      "sales         1.000000\n",
      "wm_yr_wk     -0.038909\n",
      "wday         -0.032059\n",
      "month        -0.004179\n",
      "year         -0.038109\n",
      "sell_price   -0.150920\n",
      "dtype: float64\n"
     ]
    }
   ],
   "source": [
    "x = df['sales']\n",
    "\n",
    "# Calculate the correlations between x and all other variables in the dataset\n",
    "correlations = df.corrwith(x)\n",
    "\n",
    "# Print the correlations\n",
    "print(correlations)"
   ]
  },
  {
   "cell_type": "markdown",
   "id": "f195debb",
   "metadata": {},
   "source": [
    "**Data Cleaning**"
   ]
  },
  {
   "cell_type": "code",
   "execution_count": 11,
   "id": "321f1cda",
   "metadata": {},
   "outputs": [],
   "source": [
    "# drop the variables with over 90 percent missing values, and other categorical variables not needed.\n",
    "df.drop(['id','item_id','dept_id','cat_id','store_id','wm_yr_wk','weekday','wday',\n",
    "        'event_name_1','event_type_1','event_name_2','event_type_2','date'],axis=1,inplace=True)"
   ]
  },
  {
   "cell_type": "code",
   "execution_count": 12,
   "id": "be1f3936",
   "metadata": {},
   "outputs": [
    {
     "data": {
      "text/html": [
       "<div>\n",
       "<style scoped>\n",
       "    .dataframe tbody tr th:only-of-type {\n",
       "        vertical-align: middle;\n",
       "    }\n",
       "\n",
       "    .dataframe tbody tr th {\n",
       "        vertical-align: top;\n",
       "    }\n",
       "\n",
       "    .dataframe thead th {\n",
       "        text-align: right;\n",
       "    }\n",
       "</style>\n",
       "<table border=\"1\" class=\"dataframe\">\n",
       "  <thead>\n",
       "    <tr style=\"text-align: right;\">\n",
       "      <th></th>\n",
       "      <th>state_id</th>\n",
       "      <th>d</th>\n",
       "      <th>sales</th>\n",
       "      <th>month</th>\n",
       "      <th>year</th>\n",
       "      <th>snap_CA</th>\n",
       "      <th>snap_TX</th>\n",
       "      <th>snap_WI</th>\n",
       "      <th>sell_price</th>\n",
       "    </tr>\n",
       "  </thead>\n",
       "  <tbody>\n",
       "    <tr>\n",
       "      <th>0</th>\n",
       "      <td>CA</td>\n",
       "      <td>d_1</td>\n",
       "      <td>12</td>\n",
       "      <td>1</td>\n",
       "      <td>2011</td>\n",
       "      <td>No</td>\n",
       "      <td>No</td>\n",
       "      <td>No</td>\n",
       "      <td>0.46</td>\n",
       "    </tr>\n",
       "    <tr>\n",
       "      <th>1</th>\n",
       "      <td>CA</td>\n",
       "      <td>d_2</td>\n",
       "      <td>15</td>\n",
       "      <td>1</td>\n",
       "      <td>2011</td>\n",
       "      <td>No</td>\n",
       "      <td>No</td>\n",
       "      <td>No</td>\n",
       "      <td>0.46</td>\n",
       "    </tr>\n",
       "    <tr>\n",
       "      <th>2</th>\n",
       "      <td>CA</td>\n",
       "      <td>d_3</td>\n",
       "      <td>0</td>\n",
       "      <td>1</td>\n",
       "      <td>2011</td>\n",
       "      <td>No</td>\n",
       "      <td>No</td>\n",
       "      <td>No</td>\n",
       "      <td>0.46</td>\n",
       "    </tr>\n",
       "    <tr>\n",
       "      <th>3</th>\n",
       "      <td>CA</td>\n",
       "      <td>d_4</td>\n",
       "      <td>0</td>\n",
       "      <td>2</td>\n",
       "      <td>2011</td>\n",
       "      <td>Yes</td>\n",
       "      <td>Yes</td>\n",
       "      <td>No</td>\n",
       "      <td>0.46</td>\n",
       "    </tr>\n",
       "    <tr>\n",
       "      <th>4</th>\n",
       "      <td>CA</td>\n",
       "      <td>d_5</td>\n",
       "      <td>0</td>\n",
       "      <td>2</td>\n",
       "      <td>2011</td>\n",
       "      <td>Yes</td>\n",
       "      <td>No</td>\n",
       "      <td>Yes</td>\n",
       "      <td>0.46</td>\n",
       "    </tr>\n",
       "  </tbody>\n",
       "</table>\n",
       "</div>"
      ],
      "text/plain": [
       "  state_id    d  sales  month  year snap_CA snap_TX snap_WI  sell_price\n",
       "0       CA  d_1     12      1  2011      No      No      No        0.46\n",
       "1       CA  d_2     15      1  2011      No      No      No        0.46\n",
       "2       CA  d_3      0      1  2011      No      No      No        0.46\n",
       "3       CA  d_4      0      2  2011     Yes     Yes      No        0.46\n",
       "4       CA  d_5      0      2  2011     Yes      No     Yes        0.46"
      ]
     },
     "execution_count": 12,
     "metadata": {},
     "output_type": "execute_result"
    }
   ],
   "source": [
    "df.head()"
   ]
  },
  {
   "cell_type": "markdown",
   "id": "6c9994d7",
   "metadata": {},
   "source": [
    "**Feature Engineering**\n",
    "\n",
    "\n",
    "I will create moving averages for 28 window period. 28 window period was chosen because the goal is to predict demand every 28 days. I will aslo create a total price variable."
   ]
  },
  {
   "cell_type": "code",
   "execution_count": 13,
   "id": "408905ae",
   "metadata": {},
   "outputs": [],
   "source": [
    "# write a function to create a simple moving average, exponential moving average and cumulative moving average for a 30 window period from a daily energy consumption variable and return the dataframe plus the created variables\n",
    "\n",
    "def create_moving_averages(df):\n",
    "    # Simple Moving Average\n",
    "    df['simple_moving_average']=df['sales'].rolling(window=28, min_periods=1).mean()\n",
    "    \n",
    "    # Exponential Moving Average\n",
    "    df['exp_weighted_moving_average']=df['sales'].ewm(span=28).mean()\n",
    "    \n",
    "    # Cumulative Moving Average\n",
    "    df['cum_moving_average']=df['sales'].expanding().mean()\n",
    "    \n",
    "    return df\n",
    "\n",
    "df = create_moving_averages(df)"
   ]
  },
  {
   "cell_type": "code",
   "execution_count": 14,
   "id": "29433444",
   "metadata": {},
   "outputs": [],
   "source": [
    "df['total_price'] = df['sales'] * df['sell_price']"
   ]
  },
  {
   "cell_type": "code",
   "execution_count": 15,
   "id": "23deec97",
   "metadata": {},
   "outputs": [
    {
     "data": {
      "text/html": [
       "<div>\n",
       "<style scoped>\n",
       "    .dataframe tbody tr th:only-of-type {\n",
       "        vertical-align: middle;\n",
       "    }\n",
       "\n",
       "    .dataframe tbody tr th {\n",
       "        vertical-align: top;\n",
       "    }\n",
       "\n",
       "    .dataframe thead th {\n",
       "        text-align: right;\n",
       "    }\n",
       "</style>\n",
       "<table border=\"1\" class=\"dataframe\">\n",
       "  <thead>\n",
       "    <tr style=\"text-align: right;\">\n",
       "      <th></th>\n",
       "      <th>state_id</th>\n",
       "      <th>d</th>\n",
       "      <th>sales</th>\n",
       "      <th>month</th>\n",
       "      <th>year</th>\n",
       "      <th>snap_CA</th>\n",
       "      <th>snap_TX</th>\n",
       "      <th>snap_WI</th>\n",
       "      <th>sell_price</th>\n",
       "      <th>simple_moving_average</th>\n",
       "      <th>exp_weighted_moving_average</th>\n",
       "      <th>cum_moving_average</th>\n",
       "      <th>total_price</th>\n",
       "    </tr>\n",
       "  </thead>\n",
       "  <tbody>\n",
       "    <tr>\n",
       "      <th>0</th>\n",
       "      <td>CA</td>\n",
       "      <td>d_1</td>\n",
       "      <td>12</td>\n",
       "      <td>1</td>\n",
       "      <td>2011</td>\n",
       "      <td>No</td>\n",
       "      <td>No</td>\n",
       "      <td>No</td>\n",
       "      <td>0.46</td>\n",
       "      <td>12.00</td>\n",
       "      <td>12.000000</td>\n",
       "      <td>12.00</td>\n",
       "      <td>5.52</td>\n",
       "    </tr>\n",
       "    <tr>\n",
       "      <th>1</th>\n",
       "      <td>CA</td>\n",
       "      <td>d_2</td>\n",
       "      <td>15</td>\n",
       "      <td>1</td>\n",
       "      <td>2011</td>\n",
       "      <td>No</td>\n",
       "      <td>No</td>\n",
       "      <td>No</td>\n",
       "      <td>0.46</td>\n",
       "      <td>13.50</td>\n",
       "      <td>13.553571</td>\n",
       "      <td>13.50</td>\n",
       "      <td>6.90</td>\n",
       "    </tr>\n",
       "    <tr>\n",
       "      <th>2</th>\n",
       "      <td>CA</td>\n",
       "      <td>d_3</td>\n",
       "      <td>0</td>\n",
       "      <td>1</td>\n",
       "      <td>2011</td>\n",
       "      <td>No</td>\n",
       "      <td>No</td>\n",
       "      <td>No</td>\n",
       "      <td>0.46</td>\n",
       "      <td>9.00</td>\n",
       "      <td>8.709307</td>\n",
       "      <td>9.00</td>\n",
       "      <td>0.00</td>\n",
       "    </tr>\n",
       "    <tr>\n",
       "      <th>3</th>\n",
       "      <td>CA</td>\n",
       "      <td>d_4</td>\n",
       "      <td>0</td>\n",
       "      <td>2</td>\n",
       "      <td>2011</td>\n",
       "      <td>Yes</td>\n",
       "      <td>Yes</td>\n",
       "      <td>No</td>\n",
       "      <td>0.46</td>\n",
       "      <td>6.75</td>\n",
       "      <td>6.293346</td>\n",
       "      <td>6.75</td>\n",
       "      <td>0.00</td>\n",
       "    </tr>\n",
       "    <tr>\n",
       "      <th>4</th>\n",
       "      <td>CA</td>\n",
       "      <td>d_5</td>\n",
       "      <td>0</td>\n",
       "      <td>2</td>\n",
       "      <td>2011</td>\n",
       "      <td>Yes</td>\n",
       "      <td>No</td>\n",
       "      <td>Yes</td>\n",
       "      <td>0.46</td>\n",
       "      <td>5.40</td>\n",
       "      <td>4.848689</td>\n",
       "      <td>5.40</td>\n",
       "      <td>0.00</td>\n",
       "    </tr>\n",
       "  </tbody>\n",
       "</table>\n",
       "</div>"
      ],
      "text/plain": [
       "  state_id    d  sales  month  year snap_CA snap_TX snap_WI  sell_price  \\\n",
       "0       CA  d_1     12      1  2011      No      No      No        0.46   \n",
       "1       CA  d_2     15      1  2011      No      No      No        0.46   \n",
       "2       CA  d_3      0      1  2011      No      No      No        0.46   \n",
       "3       CA  d_4      0      2  2011     Yes     Yes      No        0.46   \n",
       "4       CA  d_5      0      2  2011     Yes      No     Yes        0.46   \n",
       "\n",
       "   simple_moving_average  exp_weighted_moving_average  cum_moving_average  \\\n",
       "0                  12.00                    12.000000               12.00   \n",
       "1                  13.50                    13.553571               13.50   \n",
       "2                   9.00                     8.709307                9.00   \n",
       "3                   6.75                     6.293346                6.75   \n",
       "4                   5.40                     4.848689                5.40   \n",
       "\n",
       "   total_price  \n",
       "0         5.52  \n",
       "1         6.90  \n",
       "2         0.00  \n",
       "3         0.00  \n",
       "4         0.00  "
      ]
     },
     "execution_count": 15,
     "metadata": {},
     "output_type": "execute_result"
    }
   ],
   "source": [
    "df.head()"
   ]
  },
  {
   "cell_type": "markdown",
   "id": "be9dbdbf",
   "metadata": {},
   "source": [
    "## MODEL DEVELOPMENT"
   ]
  },
  {
   "cell_type": "markdown",
   "id": "f85ccf2b",
   "metadata": {},
   "source": [
    "The categorical values will be encoded using pandas factorize."
   ]
  },
  {
   "cell_type": "code",
   "execution_count": 16,
   "id": "449a4933",
   "metadata": {},
   "outputs": [
    {
     "name": "stdout",
     "output_type": "stream",
     "text": [
      "Object variable columns: ['state_id', 'd', 'snap_CA', 'snap_TX', 'snap_WI']\n"
     ]
    }
   ],
   "source": [
    "# Get a subset of the DataFrame containing only object variables\n",
    "object_variables = df.select_dtypes(include=['object'])\n",
    "\n",
    "# Get the column names of the object variables\n",
    "object_columns = object_variables.columns.tolist()\n",
    "\n",
    "# Print the column names of the object variables\n",
    "print(\"Object variable columns:\", object_columns)"
   ]
  },
  {
   "cell_type": "code",
   "execution_count": 17,
   "id": "a22ac32b",
   "metadata": {},
   "outputs": [],
   "source": [
    "df[['state_id', 'snap_CA', 'snap_TX', 'snap_WI']] = df[['state_id', 'snap_CA', 'snap_TX', 'snap_WI']].apply(lambda x: pd.factorize(x)[0])"
   ]
  },
  {
   "cell_type": "code",
   "execution_count": 18,
   "id": "bb58cf46",
   "metadata": {},
   "outputs": [
    {
     "data": {
      "text/html": [
       "<div>\n",
       "<style scoped>\n",
       "    .dataframe tbody tr th:only-of-type {\n",
       "        vertical-align: middle;\n",
       "    }\n",
       "\n",
       "    .dataframe tbody tr th {\n",
       "        vertical-align: top;\n",
       "    }\n",
       "\n",
       "    .dataframe thead th {\n",
       "        text-align: right;\n",
       "    }\n",
       "</style>\n",
       "<table border=\"1\" class=\"dataframe\">\n",
       "  <thead>\n",
       "    <tr style=\"text-align: right;\">\n",
       "      <th></th>\n",
       "      <th>state_id</th>\n",
       "      <th>d</th>\n",
       "      <th>sales</th>\n",
       "      <th>month</th>\n",
       "      <th>year</th>\n",
       "      <th>snap_CA</th>\n",
       "      <th>snap_TX</th>\n",
       "      <th>snap_WI</th>\n",
       "      <th>sell_price</th>\n",
       "      <th>simple_moving_average</th>\n",
       "      <th>exp_weighted_moving_average</th>\n",
       "      <th>cum_moving_average</th>\n",
       "      <th>total_price</th>\n",
       "    </tr>\n",
       "  </thead>\n",
       "  <tbody>\n",
       "    <tr>\n",
       "      <th>0</th>\n",
       "      <td>0</td>\n",
       "      <td>d_1</td>\n",
       "      <td>12</td>\n",
       "      <td>1</td>\n",
       "      <td>2011</td>\n",
       "      <td>0</td>\n",
       "      <td>0</td>\n",
       "      <td>0</td>\n",
       "      <td>0.46</td>\n",
       "      <td>12.00</td>\n",
       "      <td>12.000000</td>\n",
       "      <td>12.00</td>\n",
       "      <td>5.52</td>\n",
       "    </tr>\n",
       "    <tr>\n",
       "      <th>1</th>\n",
       "      <td>0</td>\n",
       "      <td>d_2</td>\n",
       "      <td>15</td>\n",
       "      <td>1</td>\n",
       "      <td>2011</td>\n",
       "      <td>0</td>\n",
       "      <td>0</td>\n",
       "      <td>0</td>\n",
       "      <td>0.46</td>\n",
       "      <td>13.50</td>\n",
       "      <td>13.553571</td>\n",
       "      <td>13.50</td>\n",
       "      <td>6.90</td>\n",
       "    </tr>\n",
       "    <tr>\n",
       "      <th>2</th>\n",
       "      <td>0</td>\n",
       "      <td>d_3</td>\n",
       "      <td>0</td>\n",
       "      <td>1</td>\n",
       "      <td>2011</td>\n",
       "      <td>0</td>\n",
       "      <td>0</td>\n",
       "      <td>0</td>\n",
       "      <td>0.46</td>\n",
       "      <td>9.00</td>\n",
       "      <td>8.709307</td>\n",
       "      <td>9.00</td>\n",
       "      <td>0.00</td>\n",
       "    </tr>\n",
       "    <tr>\n",
       "      <th>3</th>\n",
       "      <td>0</td>\n",
       "      <td>d_4</td>\n",
       "      <td>0</td>\n",
       "      <td>2</td>\n",
       "      <td>2011</td>\n",
       "      <td>1</td>\n",
       "      <td>1</td>\n",
       "      <td>0</td>\n",
       "      <td>0.46</td>\n",
       "      <td>6.75</td>\n",
       "      <td>6.293346</td>\n",
       "      <td>6.75</td>\n",
       "      <td>0.00</td>\n",
       "    </tr>\n",
       "    <tr>\n",
       "      <th>4</th>\n",
       "      <td>0</td>\n",
       "      <td>d_5</td>\n",
       "      <td>0</td>\n",
       "      <td>2</td>\n",
       "      <td>2011</td>\n",
       "      <td>1</td>\n",
       "      <td>0</td>\n",
       "      <td>1</td>\n",
       "      <td>0.46</td>\n",
       "      <td>5.40</td>\n",
       "      <td>4.848689</td>\n",
       "      <td>5.40</td>\n",
       "      <td>0.00</td>\n",
       "    </tr>\n",
       "  </tbody>\n",
       "</table>\n",
       "</div>"
      ],
      "text/plain": [
       "   state_id    d  sales  month  year  snap_CA  snap_TX  snap_WI  sell_price  \\\n",
       "0         0  d_1     12      1  2011        0        0        0        0.46   \n",
       "1         0  d_2     15      1  2011        0        0        0        0.46   \n",
       "2         0  d_3      0      1  2011        0        0        0        0.46   \n",
       "3         0  d_4      0      2  2011        1        1        0        0.46   \n",
       "4         0  d_5      0      2  2011        1        0        1        0.46   \n",
       "\n",
       "   simple_moving_average  exp_weighted_moving_average  cum_moving_average  \\\n",
       "0                  12.00                    12.000000               12.00   \n",
       "1                  13.50                    13.553571               13.50   \n",
       "2                   9.00                     8.709307                9.00   \n",
       "3                   6.75                     6.293346                6.75   \n",
       "4                   5.40                     4.848689                5.40   \n",
       "\n",
       "   total_price  \n",
       "0         5.52  \n",
       "1         6.90  \n",
       "2         0.00  \n",
       "3         0.00  \n",
       "4         0.00  "
      ]
     },
     "execution_count": 18,
     "metadata": {},
     "output_type": "execute_result"
    }
   ],
   "source": [
    "df.head()"
   ]
  },
  {
   "cell_type": "markdown",
   "id": "c6abc508",
   "metadata": {},
   "source": [
    "**Create Train and Test Datasets**\n",
    "\n",
    "Since the objective is to predict demand every 28 days, the last 28 days of sale will be extracted as the test data."
   ]
  },
  {
   "cell_type": "code",
   "execution_count": 19,
   "id": "504032bb",
   "metadata": {},
   "outputs": [],
   "source": [
    "df['d'] = df.d.str.strip('d_') #remove the characters from the string and then convert object to numneric to enable extracting the test set"
   ]
  },
  {
   "cell_type": "code",
   "execution_count": 20,
   "id": "80ba7f6d",
   "metadata": {},
   "outputs": [],
   "source": [
    "# this variable's data type will be changed to integer to enable the extraction of the test data\n",
    "\n",
    "df['d'] = df['d'].astype('int64')"
   ]
  },
  {
   "cell_type": "code",
   "execution_count": 21,
   "id": "950a6fa9",
   "metadata": {},
   "outputs": [],
   "source": [
    "\n",
    "## downcasting loop\n",
    "for column in df:\n",
    "    if df[column].dtype == 'float64':\n",
    "        df[column]=pd.to_numeric(df[column], downcast='float')\n",
    "    if df[column].dtype == 'int64':\n",
    "        df[column]=pd.to_numeric(df[column], downcast='integer')"
   ]
  },
  {
   "cell_type": "code",
   "execution_count": 22,
   "id": "fd10b763",
   "metadata": {},
   "outputs": [
    {
     "name": "stdout",
     "output_type": "stream",
     "text": [
      "<class 'pandas.core.frame.DataFrame'>\n",
      "RangeIndex: 46027957 entries, 0 to 46027956\n",
      "Data columns (total 13 columns):\n",
      " #   Column                       Dtype  \n",
      "---  ------                       -----  \n",
      " 0   state_id                     int8   \n",
      " 1   d                            int16  \n",
      " 2   sales                        int16  \n",
      " 3   month                        int8   \n",
      " 4   year                         int16  \n",
      " 5   snap_CA                      int8   \n",
      " 6   snap_TX                      int8   \n",
      " 7   snap_WI                      int8   \n",
      " 8   sell_price                   float32\n",
      " 9   simple_moving_average        float32\n",
      " 10  exp_weighted_moving_average  float32\n",
      " 11  cum_moving_average           float32\n",
      " 12  total_price                  float32\n",
      "dtypes: float32(5), int16(3), int8(5)\n",
      "memory usage: 1.3 GB\n"
     ]
    }
   ],
   "source": [
    "df.info()"
   ]
  },
  {
   "cell_type": "code",
   "execution_count": 23,
   "id": "665902c8",
   "metadata": {},
   "outputs": [],
   "source": [
    "# function to create the train and test datasets\n",
    "\n",
    "def extract_train_test_samples(df):\n",
    "    # Get the minimum and maximum values of the 'd' column\n",
    "    d_min = df['d'].min()\n",
    "    d_max = df['d'].max()\n",
    "    \n",
    "    # Extract the test sample in the order of df[df['d'] >= d_max - 28]\n",
    "    test_sample = df[df['d'] >= d_max - 28].sort_values(by='d')\n",
    "    \n",
    "    # Extract the train sample in the order of df[(df['d'] >= d_min) & (df['d'] < d_max - 28)]\n",
    "    train_sample = df[(df['d'] >= d_min) & (df['d'] < d_max - 28)].sort_values(by='d')\n",
    "    \n",
    "    return train_sample, test_sample\n",
    "\n",
    "train_sample, test_sample = extract_train_test_samples(df)"
   ]
  },
  {
   "cell_type": "code",
   "execution_count": 24,
   "id": "1d9105ab",
   "metadata": {},
   "outputs": [
    {
     "name": "stdout",
     "output_type": "stream",
     "text": [
      "       state_id  d  sales  month  year  snap_CA  snap_TX  snap_WI  sell_price  \\\n",
      "0             0  1     12      1  2011        0        0        0        0.46   \n",
      "31906         1  1      0      1  2011        0        0        0        3.67   \n",
      "31899         1  1      0      1  2011        0        0        0       12.12   \n",
      "31892         1  1      1      1  2011        0        0        0        2.57   \n",
      "31885         1  1      1      1  2011        0        0        0        6.44   \n",
      "\n",
      "       simple_moving_average  exp_weighted_moving_average  cum_moving_average  \\\n",
      "0                  12.000000                    12.000000           12.000000   \n",
      "31906               0.892857                     0.709585            2.601843   \n",
      "31899               0.750000                     0.653497            2.602226   \n",
      "31892               1.035714                     0.929516            2.602734   \n",
      "31885               1.428571                     1.313224            2.603243   \n",
      "\n",
      "       total_price  \n",
      "0             5.52  \n",
      "31906         0.00  \n",
      "31899         0.00  \n",
      "31892         2.57  \n",
      "31885         6.44  \n",
      "(45143747, 13)\n",
      "          state_id     d  sales  month  year  snap_CA  snap_TX  snap_WI  \\\n",
      "45113258         0  1885      1      3  2016        0        0        0   \n",
      "45282441         2  1885      1      3  2016        0        0        0   \n",
      "45172254         0  1885      5      3  2016        0        0        0   \n",
      "45172261         0  1885     17      3  2016        0        0        0   \n",
      "45282434         2  1885      0      3  2016        0        0        0   \n",
      "\n",
      "          sell_price  simple_moving_average  exp_weighted_moving_average  \\\n",
      "45113258        8.26               1.071429                     1.392841   \n",
      "45282441        2.68               1.357143                     1.007385   \n",
      "45172254        1.00               0.892857                     1.434569   \n",
      "45172261        2.48               1.928571                     3.061044   \n",
      "45282434        1.98               1.607143                     1.349851   \n",
      "\n",
      "          cum_moving_average  total_price  \n",
      "45113258            1.427775         8.26  \n",
      "45282441            1.427358         2.68  \n",
      "45172254            1.427874         5.00  \n",
      "45172261            1.427875        42.16  \n",
      "45282434            1.427358         0.00  \n",
      "(884210, 13)\n"
     ]
    }
   ],
   "source": [
    "print(train_sample.head())\n",
    "print(train_sample.shape)\n",
    "print(test_sample.head())\n",
    "print(test_sample.shape)"
   ]
  },
  {
   "cell_type": "markdown",
   "id": "f239141a",
   "metadata": {},
   "source": [
    "**MODEL BUILDING USING NEURAL NETWORK**"
   ]
  },
  {
   "cell_type": "code",
   "execution_count": 25,
   "id": "d965139f",
   "metadata": {},
   "outputs": [],
   "source": [
    "from tensorflow.keras.models import Sequential\n",
    "from tensorflow.keras.layers import Dense, Activation,Dropout\n",
    "from tensorflow.keras.optimizers import Adam\n",
    "import tensorflow as tf\n",
    "import math\n",
    "from tensorflow.keras import Model\n",
    "from tensorflow.keras.losses import MeanSquaredLogarithmicError\n",
    "from tensorflow.keras.callbacks import EarlyStopping \n",
    "from sklearn.metrics import mean_squared_error,mean_absolute_error,r2_score"
   ]
  },
  {
   "cell_type": "code",
   "execution_count": 26,
   "id": "53fa997a",
   "metadata": {},
   "outputs": [
    {
     "name": "stdout",
     "output_type": "stream",
     "text": [
      "2.10.0\n"
     ]
    }
   ],
   "source": [
    "print(tf. __version__) "
   ]
  },
  {
   "cell_type": "markdown",
   "id": "ac7d37d7",
   "metadata": {},
   "source": [
    "**Normalizing the Data**\n",
    "\n",
    "Use a MinMaxScaler to normalize the feature data X_train and X_test. Recall we don't want data leakge from the test set so we only fit on the X_train data"
   ]
  },
  {
   "cell_type": "code",
   "execution_count": 27,
   "id": "23b2f498",
   "metadata": {},
   "outputs": [],
   "source": [
    "from sklearn.preprocessing import MinMaxScaler\n",
    "\n",
    "    #define the X and y variables\n",
    "X = train_sample\n",
    "y = test_sample\n",
    "    # create the train and test datasets\n",
    "X_train = train_sample.drop(['sales'],axis=1)\n",
    "y_train = train_sample['sales']\n",
    "X_test = test_sample.drop(['sales'],axis=1)\n",
    "y_test = test_sample['sales']\n",
    "\n",
    "scaler = MinMaxScaler()\n",
    "\n",
    "X_train = scaler.fit_transform(X_train)\n",
    "\n",
    "X_test = scaler.transform(X_test)\n"
   ]
  },
  {
   "cell_type": "code",
   "execution_count": 40,
   "id": "f91340d7",
   "metadata": {},
   "outputs": [],
   "source": [
    "callback = tf.keras.callbacks.EarlyStopping(monitor= 'val_loss', patience=10)"
   ]
  },
  {
   "cell_type": "markdown",
   "id": "2b13f985",
   "metadata": {},
   "source": [
    "### Hyperparameter Tuning using Keras Tuner"
   ]
  },
  {
   "cell_type": "code",
   "execution_count": 41,
   "id": "94d3e23b",
   "metadata": {},
   "outputs": [
    {
     "name": "stdout",
     "output_type": "stream",
     "text": [
      "INFO:tensorflow:Reloading Oracle from existing project keras_tuner_PHDExperiment_dir\\keras_tuner_PHD_EXPERIMENT\\oracle.json\n",
      "INFO:tensorflow:Reloading Tuner from keras_tuner_PHDExperiment_dir\\keras_tuner_PHD_EXPERIMENT\\tuner0.json\n",
      "INFO:tensorflow:Oracle triggered exit\n"
     ]
    }
   ],
   "source": [
    "import keras_tuner as kt\n",
    "\n",
    "\n",
    "\n",
    "#msle = MeanSquaredLogarithmicError()\n",
    "\n",
    "mse = tf.keras.losses.MeanSquaredError()\n",
    "\n",
    "\n",
    "def build_model(hp):\n",
    "    \n",
    "    model = tf.keras.Sequential()\n",
    "  \n",
    "  # Tune the number of units in the first Dense layer\n",
    "  # Choose an optimal value between 32-512\n",
    "    hp_units1 = hp.Int('units1', min_value=32, max_value=512, step=32)\n",
    "    hp_units2 = hp.Int('units2', min_value=32, max_value=512, step=32)\n",
    "    hp_units3 = hp.Int('units3', min_value=32, max_value=512, step=32)\n",
    "    model.add(Dense(units=hp_units1, activation='relu'))\n",
    "    model.add(tf.keras.layers.Dense(units=hp_units2, activation='relu'))\n",
    "    model.add(tf.keras.layers.Dense(units=hp_units3, activation='relu'))\n",
    "    model.add(Dense(1, kernel_initializer='normal', activation='linear'))\n",
    "\n",
    "  # Tune the learning rate for the optimizer\n",
    "  # Choose an optimal value from 0.01, 0.001, or 0.0001\n",
    "    hp_learning_rate = hp.Choice('learning_rate', values=[1e-2, 1e-3, 1e-4])\n",
    "    #hp_learning_rate = hp.Choice('batch_size', values=[32, 512, 900])\n",
    "\n",
    "    model.compile(\n",
    "      optimizer=tf.keras.optimizers.Adam(learning_rate=hp_learning_rate),\n",
    "      loss=mse,\n",
    "      metrics=[mse])\n",
    "  \n",
    "\n",
    "    return model\n",
    "\n",
    "# Bayesian optimization algorithm from keras tuner\n",
    "tuner = kt.BayesianOptimization(\n",
    "    build_model,\n",
    "    objective='val_loss',\n",
    "    max_trials=10,\n",
    "    #executions_per_trial=2,\n",
    "    #max_epochs=15,\n",
    "    directory='keras_tuner_PHDExperiment_dir',\n",
    "    project_name='keras_tuner_PHD_EXPERIMENT'\n",
    ")\n",
    "\n",
    "tuner.search(X_train, y_train,validation_data=(X_test, y_test), epochs=15,callbacks=[callback])"
   ]
  },
  {
   "cell_type": "code",
   "execution_count": 42,
   "id": "90e7f006",
   "metadata": {},
   "outputs": [
    {
     "name": "stdout",
     "output_type": "stream",
     "text": [
      "units1 32\n",
      "units2 320\n",
      "units3 128\n",
      "learning_rate 0.0001\n"
     ]
    }
   ],
   "source": [
    "for h_param in [f\"units{i}\" for i in range(1,4)] + ['learning_rate']:\n",
    "    \n",
    "    print(h_param, tuner.get_best_hyperparameters()[0].get(h_param))"
   ]
  },
  {
   "cell_type": "code",
   "execution_count": 31,
   "id": "7a0dc23f",
   "metadata": {},
   "outputs": [],
   "source": [
    "# extract the best model from the hyperparameter tuning\n",
    "best_model = tuner.get_best_models()[0]"
   ]
  },
  {
   "cell_type": "markdown",
   "id": "b5d1bfe6",
   "metadata": {},
   "source": [
    "### Train the model using the best hyperparameters to fit the dataset."
   ]
  },
  {
   "cell_type": "code",
   "execution_count": 43,
   "id": "9dd981da",
   "metadata": {},
   "outputs": [
    {
     "name": "stdout",
     "output_type": "stream",
     "text": [
      "Epoch 1/200\n",
      "1410743/1410743 [==============================] - 5378s 4ms/step - loss: 0.0238 - mean_squared_error: 0.0238 - val_loss: 0.0058 - val_mean_squared_error: 0.0058\n",
      "Epoch 2/200\n",
      "1410743/1410743 [==============================] - 5221s 4ms/step - loss: 0.0267 - mean_squared_error: 0.0267 - val_loss: 0.0048 - val_mean_squared_error: 0.0048\n",
      "Epoch 3/200\n",
      "1410743/1410743 [==============================] - 5132s 4ms/step - loss: 0.0264 - mean_squared_error: 0.0264 - val_loss: 0.0151 - val_mean_squared_error: 0.0151\n",
      "Epoch 4/200\n",
      "1410743/1410743 [==============================] - 5034s 4ms/step - loss: 0.0273 - mean_squared_error: 0.0273 - val_loss: 0.0340 - val_mean_squared_error: 0.0340\n",
      "Epoch 5/200\n",
      "1410743/1410743 [==============================] - 5028s 4ms/step - loss: 0.0277 - mean_squared_error: 0.0277 - val_loss: 0.0078 - val_mean_squared_error: 0.0078\n",
      "Epoch 6/200\n",
      "1410743/1410743 [==============================] - 5013s 4ms/step - loss: 0.0263 - mean_squared_error: 0.0263 - val_loss: 0.0061 - val_mean_squared_error: 0.0061\n",
      "Epoch 7/200\n",
      "1410743/1410743 [==============================] - 4998s 4ms/step - loss: 0.0267 - mean_squared_error: 0.0267 - val_loss: 0.0149 - val_mean_squared_error: 0.0149\n",
      "Epoch 8/200\n",
      "1410743/1410743 [==============================] - 4955s 4ms/step - loss: 0.0246 - mean_squared_error: 0.0246 - val_loss: 0.0079 - val_mean_squared_error: 0.0079\n",
      "Epoch 9/200\n",
      "1410743/1410743 [==============================] - 4963s 4ms/step - loss: 0.0268 - mean_squared_error: 0.0268 - val_loss: 0.0088 - val_mean_squared_error: 0.0088\n",
      "Epoch 10/200\n",
      "1410743/1410743 [==============================] - 4931s 3ms/step - loss: 0.0240 - mean_squared_error: 0.0240 - val_loss: 0.0422 - val_mean_squared_error: 0.0422\n",
      "Epoch 11/200\n",
      "1410743/1410743 [==============================] - 5015s 4ms/step - loss: 0.0196 - mean_squared_error: 0.0196 - val_loss: 0.0125 - val_mean_squared_error: 0.0125\n",
      "Epoch 12/200\n",
      "1410743/1410743 [==============================] - 5036s 4ms/step - loss: 0.0181 - mean_squared_error: 0.0181 - val_loss: 0.0071 - val_mean_squared_error: 0.0071\n"
     ]
    },
    {
     "data": {
      "text/plain": [
       "<keras.callbacks.History at 0x2b271dd2a90>"
      ]
     },
     "execution_count": 43,
     "metadata": {},
     "output_type": "execute_result"
    }
   ],
   "source": [
    "best_model.fit(X_train, y_train,validation_data=(X_test, y_test), epochs=200,callbacks=[callback])"
   ]
  },
  {
   "cell_type": "code",
   "execution_count": 44,
   "id": "f3ecd124",
   "metadata": {},
   "outputs": [
    {
     "name": "stdout",
     "output_type": "stream",
     "text": [
      "Model: \"sequential\"\n",
      "_________________________________________________________________\n",
      " Layer (type)                Output Shape              Param #   \n",
      "=================================================================\n",
      " dense (Dense)               (None, 32)                416       \n",
      "                                                                 \n",
      " dense_1 (Dense)             (None, 320)               10560     \n",
      "                                                                 \n",
      " dense_2 (Dense)             (None, 128)               41088     \n",
      "                                                                 \n",
      " dense_3 (Dense)             (None, 1)                 129       \n",
      "                                                                 \n",
      "=================================================================\n",
      "Total params: 52,193\n",
      "Trainable params: 52,193\n",
      "Non-trainable params: 0\n",
      "_________________________________________________________________\n"
     ]
    }
   ],
   "source": [
    "best_model.summary()"
   ]
  },
  {
   "cell_type": "code",
   "execution_count": 45,
   "id": "235603a9",
   "metadata": {},
   "outputs": [
    {
     "data": {
      "text/html": [
       "<div>\n",
       "<style scoped>\n",
       "    .dataframe tbody tr th:only-of-type {\n",
       "        vertical-align: middle;\n",
       "    }\n",
       "\n",
       "    .dataframe tbody tr th {\n",
       "        vertical-align: top;\n",
       "    }\n",
       "\n",
       "    .dataframe thead th {\n",
       "        text-align: right;\n",
       "    }\n",
       "</style>\n",
       "<table border=\"1\" class=\"dataframe\">\n",
       "  <thead>\n",
       "    <tr style=\"text-align: right;\">\n",
       "      <th></th>\n",
       "      <th>loss</th>\n",
       "      <th>mean_squared_error</th>\n",
       "      <th>val_loss</th>\n",
       "      <th>val_mean_squared_error</th>\n",
       "    </tr>\n",
       "  </thead>\n",
       "  <tbody>\n",
       "    <tr>\n",
       "      <th>0</th>\n",
       "      <td>0.023772</td>\n",
       "      <td>0.023772</td>\n",
       "      <td>0.005776</td>\n",
       "      <td>0.005776</td>\n",
       "    </tr>\n",
       "    <tr>\n",
       "      <th>1</th>\n",
       "      <td>0.026684</td>\n",
       "      <td>0.026684</td>\n",
       "      <td>0.004800</td>\n",
       "      <td>0.004800</td>\n",
       "    </tr>\n",
       "    <tr>\n",
       "      <th>2</th>\n",
       "      <td>0.026367</td>\n",
       "      <td>0.026367</td>\n",
       "      <td>0.015101</td>\n",
       "      <td>0.015101</td>\n",
       "    </tr>\n",
       "    <tr>\n",
       "      <th>3</th>\n",
       "      <td>0.027260</td>\n",
       "      <td>0.027260</td>\n",
       "      <td>0.033997</td>\n",
       "      <td>0.033997</td>\n",
       "    </tr>\n",
       "    <tr>\n",
       "      <th>4</th>\n",
       "      <td>0.027737</td>\n",
       "      <td>0.027737</td>\n",
       "      <td>0.007780</td>\n",
       "      <td>0.007780</td>\n",
       "    </tr>\n",
       "    <tr>\n",
       "      <th>5</th>\n",
       "      <td>0.026254</td>\n",
       "      <td>0.026254</td>\n",
       "      <td>0.006103</td>\n",
       "      <td>0.006102</td>\n",
       "    </tr>\n",
       "    <tr>\n",
       "      <th>6</th>\n",
       "      <td>0.026652</td>\n",
       "      <td>0.026652</td>\n",
       "      <td>0.014936</td>\n",
       "      <td>0.014936</td>\n",
       "    </tr>\n",
       "    <tr>\n",
       "      <th>7</th>\n",
       "      <td>0.024592</td>\n",
       "      <td>0.024592</td>\n",
       "      <td>0.007881</td>\n",
       "      <td>0.007881</td>\n",
       "    </tr>\n",
       "    <tr>\n",
       "      <th>8</th>\n",
       "      <td>0.026836</td>\n",
       "      <td>0.026836</td>\n",
       "      <td>0.008799</td>\n",
       "      <td>0.008799</td>\n",
       "    </tr>\n",
       "    <tr>\n",
       "      <th>9</th>\n",
       "      <td>0.023969</td>\n",
       "      <td>0.023969</td>\n",
       "      <td>0.042180</td>\n",
       "      <td>0.042179</td>\n",
       "    </tr>\n",
       "    <tr>\n",
       "      <th>10</th>\n",
       "      <td>0.019635</td>\n",
       "      <td>0.019635</td>\n",
       "      <td>0.012462</td>\n",
       "      <td>0.012462</td>\n",
       "    </tr>\n",
       "    <tr>\n",
       "      <th>11</th>\n",
       "      <td>0.018057</td>\n",
       "      <td>0.018057</td>\n",
       "      <td>0.007090</td>\n",
       "      <td>0.007090</td>\n",
       "    </tr>\n",
       "  </tbody>\n",
       "</table>\n",
       "</div>"
      ],
      "text/plain": [
       "        loss  mean_squared_error  val_loss  val_mean_squared_error\n",
       "0   0.023772            0.023772  0.005776                0.005776\n",
       "1   0.026684            0.026684  0.004800                0.004800\n",
       "2   0.026367            0.026367  0.015101                0.015101\n",
       "3   0.027260            0.027260  0.033997                0.033997\n",
       "4   0.027737            0.027737  0.007780                0.007780\n",
       "5   0.026254            0.026254  0.006103                0.006102\n",
       "6   0.026652            0.026652  0.014936                0.014936\n",
       "7   0.024592            0.024592  0.007881                0.007881\n",
       "8   0.026836            0.026836  0.008799                0.008799\n",
       "9   0.023969            0.023969  0.042180                0.042179\n",
       "10  0.019635            0.019635  0.012462                0.012462\n",
       "11  0.018057            0.018057  0.007090                0.007090"
      ]
     },
     "execution_count": 45,
     "metadata": {},
     "output_type": "execute_result"
    }
   ],
   "source": [
    "losses = pd.DataFrame(best_model.history.history)\n",
    "losses # compares losses in train data vs test data. "
   ]
  },
  {
   "cell_type": "code",
   "execution_count": 46,
   "id": "8592d532",
   "metadata": {},
   "outputs": [
    {
     "data": {
      "text/plain": [
       "<AxesSubplot:>"
      ]
     },
     "execution_count": 46,
     "metadata": {},
     "output_type": "execute_result"
    },
    {
     "data": {
      "text/plain": [
       "<Figure size 1700x600 with 0 Axes>"
      ]
     },
     "metadata": {},
     "output_type": "display_data"
    },
    {
     "data": {
      "image/png": "[encoded data removed]",
      "text/plain": [
       "<Figure size 640x480 with 1 Axes>"
      ]
     },
     "metadata": {},
     "output_type": "display_data"
    }
   ],
   "source": [
    "plt.figure(figsize=(17,6))\n",
    "losses.plot()"
   ]
  },
  {
   "cell_type": "code",
   "execution_count": 47,
   "id": "830561c6",
   "metadata": {},
   "outputs": [],
   "source": [
    "from sklearn.metrics import mean_squared_error,mean_absolute_error,r2_score"
   ]
  },
  {
   "cell_type": "markdown",
   "id": "261a113c",
   "metadata": {},
   "source": [
    "## Evaluation on Hold-out Data"
   ]
  },
  {
   "cell_type": "code",
   "execution_count": 48,
   "id": "193e10c9",
   "metadata": {},
   "outputs": [
    {
     "name": "stdout",
     "output_type": "stream",
     "text": [
      "27632/27632 [==============================] - 40s 1ms/step\n"
     ]
    }
   ],
   "source": [
    "pred = best_model.predict(X_test)"
   ]
  },
  {
   "cell_type": "code",
   "execution_count": 49,
   "id": "27dd684a",
   "metadata": {},
   "outputs": [
    {
     "name": "stdout",
     "output_type": "stream",
     "text": [
      "MAE: 0.016331237\n",
      "MSE: 0.0070899935\n",
      "RMSE: 0.084202096\n",
      "R-squared:  0.9994619542498275\n"
     ]
    }
   ],
   "source": [
    "print('MAE:', mean_absolute_error(y_test, pred))\n",
    "print('MSE:', mean_squared_error(y_test, pred))\n",
    "print('RMSE:',np.sqrt(mean_squared_error(y_test, pred)))\n",
    "print('R-squared: ',r2_score(y_test,pred))"
   ]
  },
  {
   "cell_type": "code",
   "execution_count": 50,
   "id": "a56fb147",
   "metadata": {},
   "outputs": [
    {
     "data": {
      "text/plain": [
       "[<matplotlib.lines.Line2D at 0x2b2724aefd0>]"
      ]
     },
     "execution_count": 50,
     "metadata": {},
     "output_type": "execute_result"
    },
    {
     "data": {
      "image/png": "[encoded data removed]",
      "text/plain": [
       "<Figure size 1000x600 with 1 Axes>"
      ]
     },
     "metadata": {},
     "output_type": "display_data"
    }
   ],
   "source": [
    "# Our predictions\n",
    "plt.figure(figsize=(10,6))\n",
    "plt.scatter(y_test,pred)\n",
    "\n",
    "# Perfect predictions\n",
    "plt.plot(y_test,y_test,'r')"
   ]
  },
  {
   "cell_type": "markdown",
   "id": "015da893",
   "metadata": {},
   "source": [
    "The scatterplot shows a good regression model. The regression line cuts across almost the entire datapoints."
   ]
  },
  {
   "cell_type": "code",
   "execution_count": 52,
   "id": "a55967ce",
   "metadata": {},
   "outputs": [],
   "source": [
    "from tensorflow.keras.models import save_model\n",
    "\n",
    "save_model(best_model, \"NEURAL_NETWORK_MODEL_PHD_EXPERIMENT.h5\")"
   ]
  },
  {
   "cell_type": "code",
   "execution_count": null,
   "id": "388479f0",
   "metadata": {},
   "outputs": [],
   "source": []
  }
 ],
 "metadata": {
  "kernelspec": {
   "display_name": "Python 3 (ipykernel)",
   "language": "python",
   "name": "python3"
  },
  "language_info": {
   "codemirror_mode": {
    "name": "ipython",
    "version": 3
   },
   "file_extension": ".py",
   "mimetype": "text/x-python",
   "name": "python",
   "nbconvert_exporter": "python",
   "pygments_lexer": "ipython3",
   "version": "3.9.12"
  }
 },
 "nbformat": 4,
 "nbformat_minor": 5
}
